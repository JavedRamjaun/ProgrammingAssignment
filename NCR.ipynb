{
  "nbformat": 4,
  "nbformat_minor": 0,
  "metadata": {
    "colab": {
      "provenance": [],
      "authorship_tag": "ABX9TyMVwLv9UHUgLJXxw7WZKdMl",
      "include_colab_link": true
    },
    "kernelspec": {
      "name": "python3",
      "display_name": "Python 3"
    },
    "language_info": {
      "name": "python"
    }
  },
  "cells": [
    {
      "cell_type": "markdown",
      "metadata": {
        "id": "view-in-github",
        "colab_type": "text"
      },
      "source": [
        "<a href=\"https://colab.research.google.com/github/JavedRamjaun/ProgrammingAssignment/blob/main/NCR.ipynb\" target=\"_parent\"><img src=\"https://colab.research.google.com/assets/colab-badge.svg\" alt=\"Open In Colab\"/></a>"
      ]
    },
    {
      "cell_type": "code",
      "execution_count": null,
      "metadata": {
        "id": "ZTXg8rBTFlbk"
      },
      "outputs": [],
      "source": []
    },
    {
      "cell_type": "markdown",
      "source": [
        "Non-Conformance Report (NCR)\n",
        "\n",
        "Date: May 21, 2023\n",
        "\n",
        "Issue: Inability to generate plots due to a coding error\n",
        "\n",
        "Details of Non-Conformance:\n",
        "\n",
        "During the development of the data visualization notebook, there was a problem in generating the plot for the \"Top 10 Email Senders.\" The issue was a NameError arising from the function plot(), which wasn't recognized in the current environment. This issue was mainly due to the lack of proper method calling with reference to the data frame, i.e., df.plot().\n",
        "\n",
        "Severity and Impact:\n",
        "\n",
        "The severity of this issue is moderate, considering it halts the data visualization part, which is a key component for understanding the trends and patterns in the data. The impact involves a significant delay in understanding the distribution of data which could impede strategic decision-making based on the data analysis.\n",
        "\n",
        "How it Occurred:\n",
        "\n",
        "The error occurred due to a misunderstanding or overlook of Python's Pandas library's syntax, where plot functions must be invoked on a DataFrame or Series object. Instead of using plot(), it should have been df.plot(), where df is the DataFrame containing the data to be plotted.\n",
        "\n",
        "Prevention Measures:\n",
        "\n",
        "To prevent such issues from happening again:\n",
        "\n",
        "More rigorous self-learning and training on Python's libraries like Pandas could be implemented.\n",
        "\n",
        "Code review processes can be made more stringent, where each line of code is checked for syntax and logical errors.\n",
        "More testing could be done after writing small blocks of code to ensure the correctness of the code.\n",
        "\n",
        "Plan to Fix:\n",
        "\n",
        "The plan to fix this issue involves correcting the syntax error in the code and then testing the entire notebook to ensure it runs as expected. This should not take more than 1 hour.\n",
        "\n"
      ],
      "metadata": {
        "id": "sqIzhtvZFop9"
      }
    },
    {
      "cell_type": "markdown",
      "source": [],
      "metadata": {
        "id": "Yq53DuUaGOQS"
      }
    }
  ]
}